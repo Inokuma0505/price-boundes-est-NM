{
 "cells": [
  {
   "cell_type": "code",
   "execution_count": 1,
   "id": "3b6bd807",
   "metadata": {},
   "outputs": [],
   "source": [
    "import matplotlib.pyplot as plt\n",
    "import itertools\n",
    "import time\n",
    "import numpy as np\n",
    "from tqdm import tqdm\n",
    "import json\n",
    "from sklearn.linear_model import LinearRegression\n",
    "from sklearn.multioutput import MultiOutputRegressor\n",
    "from sklearn.model_selection import KFold\n",
    "from sklearn.model_selection import train_test_split\n",
    "from numpy.typing import NDArray\n",
    "from scipy.optimize import minimize\n",
    "from typing import List, Tuple\n",
    "import pandas as pd\n",
    "from sklearn.metrics import r2_score"
   ]
  },
  {
   "cell_type": "code",
   "execution_count": 2,
   "id": "e0bc174f",
   "metadata": {},
   "outputs": [],
   "source": [
    "config = {\n",
    "    \"M_list\": [5, 10],\n",
    "    \"delta_list\": [0.6, 0.8, 1.0],\n",
    "    \"N\": 500,\n",
    "    \"K\": 5,\n",
    "    \"B\": 100,\n",
    "    \"r_mean\": 0.8,\n",
    "    \"r_std\": 0.1,\n",
    "    \"r_min\": 0.5,\n",
    "    \"r_max\": 1.1\n",
    "}\n",
    "\n",
    "param_combos = list(itertools.product(config[\"M_list\"], config[\"delta_list\"]))"
   ]
  },
  {
   "cell_type": "code",
   "execution_count": 3,
   "id": "83f9e83a",
   "metadata": {},
   "outputs": [
    {
     "data": {
      "text/plain": [
       "[(5, 0.6), (5, 0.8), (5, 1.0), (10, 0.6), (10, 0.8), (10, 1.0)]"
      ]
     },
     "execution_count": 3,
     "metadata": {},
     "output_type": "execute_result"
    }
   ],
   "source": [
    "param_combos"
   ]
  },
  {
   "cell_type": "code",
   "execution_count": 3,
   "id": "e058bf0c",
   "metadata": {},
   "outputs": [],
   "source": [
    "# 各手法のパラメータ定義\n",
    "quantiles = [0.95, 0.90, 0.85, 0.80]\n",
    "boot_k = {99: 2.576, 95: 1.96, 90: 1.645}\n",
    "penalties = {'ebpa3': 0.30, 'ebpa4': 0.40, 'ebpa5': 0.50,'ebpa6': 0.60}\n",
    "\n",
    "test = {}\n",
    "for M, delta in param_combos:\n",
    "    key = f\"M{M}_delta{delta}\"\n",
    "    test[key] = {}\n",
    "    methods = ['so', 'po']\n",
    "    methods += [f'quan{int(q*100)}' for q in quantiles]\n",
    "    methods += [f'boot{p}' for p in boot_k]\n",
    "    methods += list(penalties.keys())\n",
    "    for m in methods:\n",
    "        test[key][m] = {\n",
    "            'sales_ratio': [],\n",
    "            'true_sales_ratio': [],\n",
    "            'range': [],\n",
    "            'range_per_product': [],\n",
    "            'prices': [],\n",
    "            'time': []\n",
    "        }\n",
    "    test[key]['r2_list'] = []"
   ]
  },
  {
   "cell_type": "code",
   "execution_count": 5,
   "id": "0992ecaa",
   "metadata": {},
   "outputs": [
    {
     "data": {
      "text/plain": [
       "dict_keys(['M5_delta0.6', 'M5_delta0.8', 'M5_delta1.0', 'M10_delta0.6', 'M10_delta0.8', 'M10_delta1.0'])"
      ]
     },
     "execution_count": 5,
     "metadata": {},
     "output_type": "execute_result"
    }
   ],
   "source": [
    "test.keys()"
   ]
  },
  {
   "cell_type": "code",
   "execution_count": 10,
   "id": "474ce57a",
   "metadata": {},
   "outputs": [
    {
     "data": {
      "text/plain": [
       "[]"
      ]
     },
     "execution_count": 10,
     "metadata": {},
     "output_type": "execute_result"
    }
   ],
   "source": [
    "test[\"M5_delta0.6\"][\"ebpa3\"][\"sales_ratio\"]"
   ]
  },
  {
   "cell_type": "code",
   "execution_count": null,
   "id": "bc00c9a8",
   "metadata": {},
   "outputs": [],
   "source": []
  }
 ],
 "metadata": {
  "kernelspec": {
   "display_name": ".venv",
   "language": "python",
   "name": "python3"
  },
  "language_info": {
   "codemirror_mode": {
    "name": "ipython",
    "version": 3
   },
   "file_extension": ".py",
   "mimetype": "text/x-python",
   "name": "python",
   "nbconvert_exporter": "python",
   "pygments_lexer": "ipython3",
   "version": "3.10.13"
  }
 },
 "nbformat": 4,
 "nbformat_minor": 5
}
